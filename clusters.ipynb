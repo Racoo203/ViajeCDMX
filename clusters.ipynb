{
 "cells": [
  {
   "cell_type": "code",
   "execution_count": 72,
   "metadata": {},
   "outputs": [],
   "source": [
    "from sklearn.cluster import k_means\n",
    "import geopandas as gpd\n",
    "import pandas as pd\n",
    "import matplotlib.pyplot as plt\n",
    "import numpy as np"
   ]
  },
  {
   "cell_type": "code",
   "execution_count": 73,
   "metadata": {},
   "outputs": [],
   "source": [
    "cdmx_tourist = gpd.read_file(\"Viaje CDMX- Atracciones.csv\")\n",
    "cdmx_tourist['type'] = 'tourist'\n",
    "\n",
    "cdmx_restaurants = gpd.read_file(\"Viaje CDMX- Restaurantes.csv\")\n",
    "cdmx_restaurants['type'] = 'restaurant'\n",
    "\n",
    "cdmx_travel = gpd.read_file(\"Viaje CDMX- Viaje.csv\")\n",
    "cdmx_travel['type'] = 'travel'\n",
    "\n",
    "cdmx_points = pd.concat([cdmx_tourist, cdmx_restaurants, cdmx_travel])"
   ]
  },
  {
   "cell_type": "code",
   "execution_count": 74,
   "metadata": {},
   "outputs": [
    {
     "data": {
      "text/html": [
       "<div>\n",
       "<style scoped>\n",
       "    .dataframe tbody tr th:only-of-type {\n",
       "        vertical-align: middle;\n",
       "    }\n",
       "\n",
       "    .dataframe tbody tr th {\n",
       "        vertical-align: top;\n",
       "    }\n",
       "\n",
       "    .dataframe thead th {\n",
       "        text-align: right;\n",
       "    }\n",
       "</style>\n",
       "<table border=\"1\" class=\"dataframe\">\n",
       "  <thead>\n",
       "    <tr style=\"text-align: right;\">\n",
       "      <th></th>\n",
       "      <th>WKT</th>\n",
       "      <th>name</th>\n",
       "      <th>description</th>\n",
       "      <th>geometry</th>\n",
       "      <th>type</th>\n",
       "    </tr>\n",
       "  </thead>\n",
       "  <tbody>\n",
       "    <tr>\n",
       "      <th>0</th>\n",
       "      <td>POINT (-99.1862786 19.4260032)</td>\n",
       "      <td>Museo Nacional de Antropología</td>\n",
       "      <td></td>\n",
       "      <td>POINT (-99.18628 19.42600)</td>\n",
       "      <td>tourist</td>\n",
       "    </tr>\n",
       "    <tr>\n",
       "      <th>1</th>\n",
       "      <td>POINT (-99.181935 19.4204397)</td>\n",
       "      <td>Chapultepec Castle</td>\n",
       "      <td></td>\n",
       "      <td>POINT (-99.18193 19.42044)</td>\n",
       "      <td>tourist</td>\n",
       "    </tr>\n",
       "    <tr>\n",
       "      <th>2</th>\n",
       "      <td>POINT (-99.1412 19.4352)</td>\n",
       "      <td>Palacio de Bellas Artes</td>\n",
       "      <td></td>\n",
       "      <td>POINT (-99.14120 19.43520)</td>\n",
       "      <td>tourist</td>\n",
       "    </tr>\n",
       "    <tr>\n",
       "      <th>3</th>\n",
       "      <td>POINT (-99.11241389999999 19.2576998)</td>\n",
       "      <td>Xochimilco</td>\n",
       "      <td></td>\n",
       "      <td>POINT (-99.11241 19.25770)</td>\n",
       "      <td>tourist</td>\n",
       "    </tr>\n",
       "    <tr>\n",
       "      <th>4</th>\n",
       "      <td>POINT (-98.8458546 19.69062509999999)</td>\n",
       "      <td>Pyramids of Teotihuacan</td>\n",
       "      <td></td>\n",
       "      <td>POINT (-98.84585 19.69063)</td>\n",
       "      <td>tourist</td>\n",
       "    </tr>\n",
       "  </tbody>\n",
       "</table>\n",
       "</div>"
      ],
      "text/plain": [
       "                                     WKT                            name  \\\n",
       "0         POINT (-99.1862786 19.4260032)  Museo Nacional de Antropología   \n",
       "1          POINT (-99.181935 19.4204397)              Chapultepec Castle   \n",
       "2               POINT (-99.1412 19.4352)         Palacio de Bellas Artes   \n",
       "3  POINT (-99.11241389999999 19.2576998)                      Xochimilco   \n",
       "4  POINT (-98.8458546 19.69062509999999)         Pyramids of Teotihuacan   \n",
       "\n",
       "  description                    geometry     type  \n",
       "0              POINT (-99.18628 19.42600)  tourist  \n",
       "1              POINT (-99.18193 19.42044)  tourist  \n",
       "2              POINT (-99.14120 19.43520)  tourist  \n",
       "3              POINT (-99.11241 19.25770)  tourist  \n",
       "4              POINT (-98.84585 19.69063)  tourist  "
      ]
     },
     "metadata": {},
     "output_type": "display_data"
    }
   ],
   "source": [
    "display(cdmx_points.head())"
   ]
  },
  {
   "cell_type": "code",
   "execution_count": 75,
   "metadata": {},
   "outputs": [
    {
     "data": {
      "text/plain": [
       "<matplotlib.collections.PathCollection at 0x25c49e733a0>"
      ]
     },
     "execution_count": 75,
     "metadata": {},
     "output_type": "execute_result"
    },
    {
     "data": {
      "image/png": "[encoded data removed]",
      "text/plain": [
       "<Figure size 640x480 with 1 Axes>"
      ]
     },
     "metadata": {},
     "output_type": "display_data"
    }
   ],
   "source": [
    "plt.scatter(\n",
    "    cdmx_points['geometry'].x, \n",
    "    cdmx_points['geometry'].y, \n",
    "    c=cdmx_points['type'].apply(lambda x: 1 if x == 'tourist' else 2 if x == 'restaurant' else 3), \n",
    "    cmap='viridis')"
   ]
  },
  {
   "cell_type": "code",
   "execution_count": 85,
   "metadata": {},
   "outputs": [],
   "source": [
    "df = cdmx_tourist"
   ]
  },
  {
   "cell_type": "code",
   "execution_count": 86,
   "metadata": {},
   "outputs": [
    {
     "name": "stderr",
     "output_type": "stream",
     "text": [
      "c:\\Users\\rcorr\\miniconda3\\envs\\python-course\\lib\\site-packages\\geopandas\\geoseries.py:574: FutureWarning: the convert_dtype parameter is deprecated and will be removed in a future version.  Do ``ser.astype(object).apply()`` instead if you want ``convert_dtype=False``.\n",
      "  result = super().apply(func, convert_dtype=convert_dtype, args=args, **kwargs)\n",
      "c:\\Users\\rcorr\\miniconda3\\envs\\python-course\\lib\\site-packages\\sklearn\\cluster\\_kmeans.py:1412: FutureWarning: The default value of `n_init` will change from 10 to 'auto' in 1.4. Set the value of `n_init` explicitly to suppress the warning\n",
      "  super()._check_params_vs_input(X, default_n_init=10)\n",
      "c:\\Users\\rcorr\\miniconda3\\envs\\python-course\\lib\\site-packages\\sklearn\\cluster\\_kmeans.py:1436: UserWarning: KMeans is known to have a memory leak on Windows with MKL, when there are less chunks than available threads. You can avoid it by setting the environment variable OMP_NUM_THREADS=1.\n",
      "  warnings.warn(\n"
     ]
    }
   ],
   "source": [
    "features = df['geometry'].apply(lambda x: [x.x, x.y]).to_list()\n",
    "kmeans = k_means(features, n_clusters=4, init= 'k-means++')"
   ]
  },
  {
   "cell_type": "code",
   "execution_count": 87,
   "metadata": {},
   "outputs": [
    {
     "data": {
      "text/plain": [
       "array([[-99.180211  ,  19.42468323],\n",
       "       [-98.8458546 ,  19.6906251 ],\n",
       "       [-99.1557201 ,  19.32408768],\n",
       "       [-99.13979514,  19.4395604 ]])"
      ]
     },
     "metadata": {},
     "output_type": "display_data"
    }
   ],
   "source": [
    "display(kmeans[0])\n",
    "df['cluster'] = kmeans[1]"
   ]
  },
  {
   "cell_type": "code",
   "execution_count": 88,
   "metadata": {},
   "outputs": [
    {
     "data": {
      "text/plain": [
       "<matplotlib.collections.PathCollection at 0x25c4b118550>"
      ]
     },
     "execution_count": 88,
     "metadata": {},
     "output_type": "execute_result"
    },
    {
     "data": {
      "image/png": "[encoded data removed]",
      "text/plain": [
       "<Figure size 640x480 with 1 Axes>"
      ]
     },
     "metadata": {},
     "output_type": "display_data"
    }
   ],
   "source": [
    "plt.scatter(\n",
    "    df['geometry'].x, \n",
    "    df['geometry'].y, \n",
    "    c=df['cluster'], \n",
    "    cmap='viridis'\n",
    "    )"
   ]
  },
  {
   "cell_type": "code",
   "execution_count": null,
   "metadata": {},
   "outputs": [],
   "source": []
  }
 ],
 "metadata": {
  "kernelspec": {
   "display_name": "DS",
   "language": "python",
   "name": "python3"
  },
  "language_info": {
   "codemirror_mode": {
    "name": "ipython",
    "version": 3
   },
   "file_extension": ".py",
   "mimetype": "text/x-python",
   "name": "python",
   "nbconvert_exporter": "python",
   "pygments_lexer": "ipython3",
   "version": "3.10.13"
  }
 },
 "nbformat": 4,
 "nbformat_minor": 2
}
